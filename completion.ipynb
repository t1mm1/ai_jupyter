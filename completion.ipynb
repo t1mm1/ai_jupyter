{
 "cells": [
  {
   "cell_type": "markdown",
   "id": "2dae3502-0591-476d-9282-5bb0954ee4c5",
   "metadata": {},
   "source": [
    "# Simple request to generate text (GPT-4.1, OpenAPI)"
   ]
  },
  {
   "cell_type": "markdown",
   "id": "0465367c-a051-4d78-995a-142e65d883fa",
   "metadata": {
    "jp-MarkdownHeadingCollapsed": true
   },
   "source": [
    "## Install packages"
   ]
  },
  {
   "cell_type": "code",
   "execution_count": 5,
   "id": "77b1735f-3ef1-4d55-b059-b287341ace0e",
   "metadata": {
    "scrolled": true
   },
   "outputs": [
    {
     "name": "stdout",
     "output_type": "stream",
     "text": [
      "Note: you may need to restart the kernel to use updated packages.\n"
     ]
    }
   ],
   "source": [
    "pip install -q python-dotenv openai"
   ]
  },
  {
   "cell_type": "markdown",
   "id": "36fcec59-a0d3-4357-b7c1-11393fac53e9",
   "metadata": {
    "jp-MarkdownHeadingCollapsed": true
   },
   "source": [
    "## Import"
   ]
  },
  {
   "cell_type": "code",
   "execution_count": 6,
   "id": "84519723-29e6-43aa-89d8-68e1177096ba",
   "metadata": {
    "jupyter": {
     "source_hidden": true
    }
   },
   "outputs": [],
   "source": [
    "from pprint import pprint\n",
    "from dotenv import load_dotenv\n",
    "from openai import OpenAI\n",
    "from utils.convertation import object_to_dict\n",
    "\n",
    "load_dotenv()\n",
    "client = OpenAI()"
   ]
  },
  {
   "cell_type": "markdown",
   "id": "6e81ab02-cab3-4ac6-900b-3a336e23a4d3",
   "metadata": {
    "jp-MarkdownHeadingCollapsed": true
   },
   "source": [
    "## Request"
   ]
  },
  {
   "cell_type": "code",
   "execution_count": 7,
   "id": "a64a3dae-27ad-4463-86d7-289a891ea84c",
   "metadata": {
    "scrolled": true
   },
   "outputs": [],
   "source": [
    "responce = client.chat.completions.create(\n",
    "    model=\"gpt-4.1\",\n",
    "    messages=[\n",
    "        {\n",
    "            \"role\": \"system\",\n",
    "            \"content\": \"You a helpful expert of Japan\",\n",
    "        },\n",
    "        {\n",
    "            \"role\": \"user\",\n",
    "            \"content\": \"White me a hokku in ru about something without any another text\",\n",
    "        },\n",
    "    ],\n",
    "    n=3,\n",
    ")"
   ]
  },
  {
   "cell_type": "markdown",
   "id": "2b26f068-2bba-4ad5-aa5a-0c9e012be074",
   "metadata": {
    "jp-MarkdownHeadingCollapsed": true
   },
   "source": [
    "## Fetch responce"
   ]
  },
  {
   "cell_type": "code",
   "execution_count": 8,
   "id": "e2011990-6aaf-47dc-b248-53e09a8c584c",
   "metadata": {
    "scrolled": true
   },
   "outputs": [
    {
     "name": "stdout",
     "output_type": "stream",
     "text": [
      "Скользит тишина—  \n",
      "падает снежинка вниз  \n",
      "и тает в ладонь.\n",
      "___________________________\n",
      "\n",
      "Тихо вечерит —  \n",
      "журавль над заливом вдаль  \n",
      "тянет туманы.\n",
      "___________________________\n",
      "\n",
      "Ветви сакуры —  \n",
      "тихо падает лепесток  \n",
      "на старый пруд.\n",
      "___________________________\n",
      "\n"
     ]
    }
   ],
   "source": [
    "for choice in responce.choices:\n",
    "    print(choice.message.content)\n",
    "    print(\"___________________________\\n\")"
   ]
  }
 ],
 "metadata": {
  "kernelspec": {
   "display_name": "Python 3 (ipykernel)",
   "language": "python",
   "name": "python3"
  },
  "language_info": {
   "codemirror_mode": {
    "name": "ipython",
    "version": 3
   },
   "file_extension": ".py",
   "mimetype": "text/x-python",
   "name": "python",
   "nbconvert_exporter": "python",
   "pygments_lexer": "ipython3",
   "version": "3.12.3"
  }
 },
 "nbformat": 4,
 "nbformat_minor": 5
}
