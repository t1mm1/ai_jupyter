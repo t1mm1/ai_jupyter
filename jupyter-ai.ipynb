{
 "cells": [
  {
   "cell_type": "markdown",
   "id": "2dae3502-0591-476d-9282-5bb0954ee4c5",
   "metadata": {},
   "source": [
    "# Jupyter AI with OpenAPI"
   ]
  },
  {
   "cell_type": "markdown",
   "id": "0465367c-a051-4d78-995a-142e65d883fa",
   "metadata": {},
   "source": [
    "## Install packages"
   ]
  },
  {
   "cell_type": "code",
   "execution_count": 7,
   "id": "77b1735f-3ef1-4d55-b059-b287341ace0e",
   "metadata": {
    "scrolled": true
   },
   "outputs": [
    {
     "name": "stdout",
     "output_type": "stream",
     "text": [
      "Note: you may need to restart the kernel to use updated packages.\n"
     ]
    }
   ],
   "source": [
    "pip install -q python-dotenv openai jupyter-ai langchain-openai"
   ]
  },
  {
   "cell_type": "markdown",
   "id": "36fcec59-a0d3-4357-b7c1-11393fac53e9",
   "metadata": {},
   "source": [
    "## Import"
   ]
  },
  {
   "cell_type": "code",
   "execution_count": 8,
   "id": "84519723-29e6-43aa-89d8-68e1177096ba",
   "metadata": {},
   "outputs": [
    {
     "data": {
      "text/plain": [
       "True"
      ]
     },
     "execution_count": 8,
     "metadata": {},
     "output_type": "execute_result"
    }
   ],
   "source": [
    "from dotenv import load_dotenv\n",
    "\n",
    "load_dotenv()"
   ]
  },
  {
   "cell_type": "markdown",
   "id": "5815136f-5419-4637-b4d5-56858678c29f",
   "metadata": {},
   "source": [
    "## Load Jupyter AI"
   ]
  },
  {
   "cell_type": "code",
   "execution_count": 9,
   "id": "6681445b-a417-47b7-a114-afdcb7ae8f30",
   "metadata": {},
   "outputs": [
    {
     "name": "stdout",
     "output_type": "stream",
     "text": [
      "The jupyter_ai_magics extension is already loaded. To reload it, use:\n",
      "  %reload_ext jupyter_ai_magics\n",
      "The jupyter_ai extension is already loaded. To reload it, use:\n",
      "  %reload_ext jupyter_ai\n"
     ]
    }
   ],
   "source": [
    "%load_ext jupyter_ai_magics\n",
    "%load_ext jupyter_ai"
   ]
  },
  {
   "cell_type": "markdown",
   "id": "6e81ab02-cab3-4ac6-900b-3a336e23a4d3",
   "metadata": {},
   "source": [
    "## Request"
   ]
  },
  {
   "cell_type": "code",
   "execution_count": 10,
   "id": "0a691201-4a69-4841-af29-f28ad4429519",
   "metadata": {},
   "outputs": [
    {
     "data": {
      "text/markdown": [
       "I'm unable to create or encode images directly. However, I can guide you on how to create and embed an illustration or download an image to use.\n",
       "\n",
       "You can create an image using graphic design tools like Adobe Photoshop or free online tools such as Canva. Once you have an image, you can host it on an image hosting service like Imgur or use the base64 encoding to embed it.\n",
       "\n",
       "Here’s a Markdown example assuming you have an image URL ready:\n",
       "\n",
       "```markdown\n",
       "![Car Racing by the Sea at Sunset](https://example.com/your-image-url.png)\n",
       "```\n",
       "\n",
       "Remember to replace `https://example.com/your-image-url.png` with the actual URL of your image. If you encode your image in base64 format, you can replace the URL with the base64 data as well."
      ],
      "text/plain": [
       "<IPython.core.display.Markdown object>"
      ]
     },
     "execution_count": 10,
     "metadata": {
      "text/markdown": {
       "jupyter_ai": {
        "model_id": "gpt-4o",
        "provider_id": "openai-chat"
       }
      }
     },
     "output_type": "execute_result"
    }
   ],
   "source": [
    "%%ai openai-chat:gpt-4o\n",
    "Create an image of car racing in close to the sea behind sunset"
   ]
  }
 ],
 "metadata": {
  "kernelspec": {
   "display_name": "Python 3 (ipykernel)",
   "language": "python",
   "name": "python3"
  },
  "language_info": {
   "codemirror_mode": {
    "name": "ipython",
    "version": 3
   },
   "file_extension": ".py",
   "mimetype": "text/x-python",
   "name": "python",
   "nbconvert_exporter": "python",
   "pygments_lexer": "ipython3",
   "version": "3.12.3"
  }
 },
 "nbformat": 4,
 "nbformat_minor": 5
}
