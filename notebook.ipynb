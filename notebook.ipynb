{
 "cells": [
  {
   "cell_type": "code",
   "execution_count": 71,
   "id": "77b1735f-3ef1-4d55-b059-b287341ace0e",
   "metadata": {
    "scrolled": true
   },
   "outputs": [
    {
     "name": "stdout",
     "output_type": "stream",
     "text": [
      "Note: you may need to restart the kernel to use updated packages.\n"
     ]
    }
   ],
   "source": [
    "pip install -q python-dotenv openai"
   ]
  },
  {
   "cell_type": "code",
   "execution_count": 72,
   "id": "84519723-29e6-43aa-89d8-68e1177096ba",
   "metadata": {},
   "outputs": [],
   "source": [
    "from pprint import pprint"
   ]
  },
  {
   "cell_type": "code",
   "execution_count": 73,
   "id": "7a432eb5-1289-4328-ae36-38366033509e",
   "metadata": {},
   "outputs": [],
   "source": [
    "from utils.conversion import object_to_dict"
   ]
  },
  {
   "cell_type": "code",
   "execution_count": 74,
   "id": "1a0e5fab-e587-4234-a0cd-6c15a5ad9ce6",
   "metadata": {},
   "outputs": [
    {
     "data": {
      "text/plain": [
       "True"
      ]
     },
     "execution_count": 74,
     "metadata": {},
     "output_type": "execute_result"
    }
   ],
   "source": [
    "from dotenv import load_dotenv\n",
    "load_dotenv()"
   ]
  },
  {
   "cell_type": "code",
   "execution_count": 75,
   "id": "2a52a40d-0f28-4a03-9c7e-ef10c25a3fb2",
   "metadata": {},
   "outputs": [],
   "source": [
    "from openai import OpenAI\n",
    "client = OpenAI()"
   ]
  },
  {
   "cell_type": "code",
   "execution_count": 76,
   "id": "a64a3dae-27ad-4463-86d7-289a891ea84c",
   "metadata": {
    "scrolled": true
   },
   "outputs": [
    {
     "name": "stdout",
     "output_type": "stream",
     "text": [
      "{   '_request_id': 'req_6551dea5c696fd79da4ca6756d2ae036',\n",
      "    'choices': [   {   'finish_reason': 'stop',\n",
      "                       'index': 0,\n",
      "                       'logprobs': None,\n",
      "                       'message': {   'annotations': [],\n",
      "                                      'audio': None,\n",
      "                                      'content': 'Тихий весенний  \\n'\n",
      "                                                 'дождь шепчет на лужах —  \\n'\n",
      "                                                 'дальний звон колок.',\n",
      "                                      'function_call': None,\n",
      "                                      'refusal': None,\n",
      "                                      'role': 'assistant',\n",
      "                                      'tool_calls': None}},\n",
      "                   {   'finish_reason': 'stop',\n",
      "                       'index': 1,\n",
      "                       'logprobs': None,\n",
      "                       'message': {   'annotations': [],\n",
      "                                      'audio': None,\n",
      "                                      'content': 'Осенний листок —  \\n'\n",
      "                                                 'тихо кружится вниз,  \\n'\n",
      "                                                 'шепчет прощай.',\n",
      "                                      'function_call': None,\n",
      "                                      'refusal': None,\n",
      "                                      'role': 'assistant',\n",
      "                                      'tool_calls': None}},\n",
      "                   {   'finish_reason': 'stop',\n",
      "                       'index': 2,\n",
      "                       'logprobs': None,\n",
      "                       'message': {   'annotations': [],\n",
      "                                      'audio': None,\n",
      "                                      'content': 'На рассвете шум —  \\n'\n",
      "                                                 'капля падает в пруду.  \\n'\n",
      "                                                 'Журавль улетает.',\n",
      "                                      'function_call': None,\n",
      "                                      'refusal': None,\n",
      "                                      'role': 'assistant',\n",
      "                                      'tool_calls': None}}],\n",
      "    'created': 1751376620,\n",
      "    'id': 'chatcmpl-BoVLwQKgR00PWURjofLdLgxuAiAJA',\n",
      "    'model': 'gpt-4.1-2025-04-14',\n",
      "    'object': 'chat.completion',\n",
      "    'service_tier': 'default',\n",
      "    'system_fingerprint': 'fp_799e4ca3f1',\n",
      "    'usage': {   'completion_tokens': 72,\n",
      "                 'completion_tokens_details': {   'accepted_prediction_tokens': 0,\n",
      "                                                  'audio_tokens': 0,\n",
      "                                                  'reasoning_tokens': 0,\n",
      "                                                  'rejected_prediction_tokens': 0},\n",
      "                 'prompt_tokens': 30,\n",
      "                 'prompt_tokens_details': {   'audio_tokens': 0,\n",
      "                                              'cached_tokens': 0},\n",
      "                 'total_tokens': 102}}\n"
     ]
    }
   ],
   "source": [
    "responce = client.chat.completions.create(\n",
    "    model=\"gpt-4.1\",\n",
    "    messages=[\n",
    "        {\n",
    "            \"role\": \"system\",\n",
    "            \"content\": \"You a helpful expert of Japan\",\n",
    "        },\n",
    "        {\n",
    "            \"role\": \"user\",\n",
    "            \"content\": \"White me a hokku in ru about something without any another text\",\n",
    "        },\n",
    "    ],\n",
    "    n=3,\n",
    ")\n",
    "pprint(object_to_dict(responce), indent=4)"
   ]
  },
  {
   "cell_type": "code",
   "execution_count": 77,
   "id": "e2011990-6aaf-47dc-b248-53e09a8c584c",
   "metadata": {
    "scrolled": true
   },
   "outputs": [
    {
     "name": "stdout",
     "output_type": "stream",
     "text": [
      "Тихий весенний  \n",
      "дождь шепчет на лужах —  \n",
      "дальний звон колок.\n",
      "_________\n",
      "\n",
      "Осенний листок —  \n",
      "тихо кружится вниз,  \n",
      "шепчет прощай.\n",
      "_________\n",
      "\n",
      "На рассвете шум —  \n",
      "капля падает в пруду.  \n",
      "Журавль улетает.\n",
      "_________\n",
      "\n"
     ]
    }
   ],
   "source": [
    "for choice in responce.choices:\n",
    "    print(choice.message.content)\n",
    "    print(\"_________\\n\")"
   ]
  }
 ],
 "metadata": {
  "kernelspec": {
   "display_name": "Python 3 (ipykernel)",
   "language": "python",
   "name": "python3"
  },
  "language_info": {
   "codemirror_mode": {
    "name": "ipython",
    "version": 3
   },
   "file_extension": ".py",
   "mimetype": "text/x-python",
   "name": "python",
   "nbconvert_exporter": "python",
   "pygments_lexer": "ipython3",
   "version": "3.12.3"
  }
 },
 "nbformat": 4,
 "nbformat_minor": 5
}
