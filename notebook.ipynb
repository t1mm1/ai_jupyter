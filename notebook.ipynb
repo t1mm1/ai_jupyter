{
 "cells": [
  {
   "cell_type": "code",
   "execution_count": 16,
   "id": "77b1735f-3ef1-4d55-b059-b287341ace0e",
   "metadata": {
    "scrolled": true
   },
   "outputs": [
    {
     "name": "stdout",
     "output_type": "stream",
     "text": [
      "Note: you may need to restart the kernel to use updated packages.\n"
     ]
    }
   ],
   "source": [
    "pip install -q python-dotenv openai"
   ]
  },
  {
   "cell_type": "code",
   "execution_count": 17,
   "id": "84519723-29e6-43aa-89d8-68e1177096ba",
   "metadata": {},
   "outputs": [],
   "source": [
    "from pprint import pprint"
   ]
  },
  {
   "cell_type": "code",
   "execution_count": 18,
   "id": "1a0e5fab-e587-4234-a0cd-6c15a5ad9ce6",
   "metadata": {},
   "outputs": [
    {
     "data": {
      "text/plain": [
       "True"
      ]
     },
     "execution_count": 18,
     "metadata": {},
     "output_type": "execute_result"
    }
   ],
   "source": [
    "from dotenv import load_dotenv\n",
    "load_dotenv()"
   ]
  },
  {
   "cell_type": "code",
   "execution_count": 19,
   "id": "2a52a40d-0f28-4a03-9c7e-ef10c25a3fb2",
   "metadata": {},
   "outputs": [],
   "source": [
    "from openai import OpenAI\n",
    "client = OpenAI()"
   ]
  },
  {
   "cell_type": "code",
   "execution_count": 20,
   "id": "a64a3dae-27ad-4463-86d7-289a891ea84c",
   "metadata": {},
   "outputs": [
    {
     "name": "stdout",
     "output_type": "stream",
     "text": [
      "('Absolutely, I can guide you through creating a simple headless site using '\n",
      " '**Drupal 11**!\\n'\n",
      " '\\n'\n",
      " '## 1. What is a \"headless\" Drupal site?\\n'\n",
      " 'A headless (decoupled) Drupal site uses Drupal for content management and '\n",
      " 'exposes the content via APIs (like JSON API or REST); a separate front-end '\n",
      " '(such as React, Vue, Svelte, or even a static site generator) consumes these '\n",
      " 'APIs and displays content to users.\\n'\n",
      " '\\n'\n",
      " '---\\n'\n",
      " '\\n'\n",
      " '## 2. Basic Steps to Set Up a Simple Headless Drupal 11\\n'\n",
      " '\\n'\n",
      " '### **Step 1: Install Drupal 11**\\n'\n",
      " 'Set up Drupal as you normally would. For local development, you could use '\n",
      " 'something like:\\n'\n",
      " \"- [Drupal documentation's local setup \"\n",
      " 'guide](https://www.drupal.org/docs/installing-drupal)\\n'\n",
      " '- [Drupal Quickstart on '\n",
      " 'Docker](https://www.drupal.org/docs/develop/local-server-setup/docker/quick-start)\\n'\n",
      " '\\n'\n",
      " '### **Step 2: Enable Web Services**\\n'\n",
      " 'Headless Drupal relies on API exposure. The easiest approach is using the '\n",
      " '**JSON:API** module (included in core).\\n'\n",
      " '\\n'\n",
      " '- Go to **Extend** (`/admin/modules`) and enable:\\n'\n",
      " '  - **JSON:API**\\n'\n",
      " '  - **JSON:API Extras** (optional, for better endpoint control)\\n'\n",
      " '  - **Serialization**\\n'\n",
      " '\\n'\n",
      " '> You do **not** need to write custom code to expose entities; JSON:API will '\n",
      " 'generate endpoints for all content entities.\\n'\n",
      " '\\n'\n",
      " '### **Step 3: Create Some Content**\\n'\n",
      " '- Add a content type (e.g., \"Article\").\\n'\n",
      " '- Add some test content.\\n'\n",
      " '\\n'\n",
      " '### **Step 4: Test Sample API Endpoints**\\n'\n",
      " '- Example: Fetch nodes of type article\\n'\n",
      " '  ```\\n'\n",
      " '  GET http://your-site.local/jsonapi/node/article\\n'\n",
      " '  ```\\n'\n",
      " '  This should return a JSON object listing your articles.\\n'\n",
      " '\\n'\n",
      " '- You can also fetch users, taxonomy terms, etc. All via '\n",
      " '`/jsonapi/[entity_type]/[bundle]`\\n'\n",
      " '\\n'\n",
      " '- Try it in your browser, [Postman](https://www.postman.com/), or `curl`:\\n'\n",
      " '  ```sh\\n'\n",
      " '  curl http://your-site.local/jsonapi/node/article\\n'\n",
      " '  ```\\n'\n",
      " '\\n'\n",
      " '### **Step 5: Set Permissions for Anonymous API Access**\\n'\n",
      " 'By default, anonymous visitors can only access published content.\\n'\n",
      " '\\n'\n",
      " '- Go to **People** > **Roles** > **Anonymous** > **Permissions** '\n",
      " '(`/admin/people/permissions`)\\n'\n",
      " '- For \"Content\", enable:\\n'\n",
      " '    - \"Access content\"\\n'\n",
      " '    - \"Access JSON:API resource list\"\\n'\n",
      " '    - \"Access JSON:API resource\"\\n'\n",
      " '- For stricter control, consider requiring authentication, or customizing '\n",
      " 'access further.\\n'\n",
      " '\\n'\n",
      " '### **Step 6: Build a Simple Front-end (optional, for demo)**\\n'\n",
      " 'Any frontend or static site generator can consume JSON API. For example, a '\n",
      " 'minimal HTML+JS fetch:\\n'\n",
      " '\\n'\n",
      " '```html\\n'\n",
      " '<!DOCTYPE html>\\n'\n",
      " '<html>\\n'\n",
      " '<head>\\n'\n",
      " '  <title>Headless Drupal Demo</title>\\n'\n",
      " '</head>\\n'\n",
      " '<body>\\n'\n",
      " '  <h1>Articles</h1>\\n'\n",
      " '  <ul id=\"articles\"></ul>\\n'\n",
      " '  <script>\\n'\n",
      " \"    fetch('http://your-site.local/jsonapi/node/article')\\n\"\n",
      " '      .then(res => res.json())\\n'\n",
      " '      .then(data => {\\n'\n",
      " '        data.data.forEach(article => {\\n'\n",
      " \"          const li = document.createElement('li');\\n\"\n",
      " '          li.textContent = article.attributes.title;\\n'\n",
      " \"          document.getElementById('articles').appendChild(li);\\n\"\n",
      " '        });\\n'\n",
      " '      });\\n'\n",
      " '  </script>\\n'\n",
      " '</body>\\n'\n",
      " '</html>\\n'\n",
      " '```\\n'\n",
      " '\\n'\n",
      " '---\\n'\n",
      " '\\n'\n",
      " '## 3. **References**\\n'\n",
      " '- [Drupal JSON:API '\n",
      " 'documentation](https://www.drupal.org/docs/core-modules-and-themes/core-modules/jsonapi-module)\\n'\n",
      " '- [Drupal Decoupled/Headless '\n",
      " 'Guide](https://www.drupal.org/docs/core-modules-and-themes/modules/jsonapi/building-a-decoupled-application)\\n'\n",
      " '\\n'\n",
      " '---\\n'\n",
      " '\\n'\n",
      " '## Summary Table\\n'\n",
      " '\\n'\n",
      " '| Step                       | Summary                                      '\n",
      " '|\\n'\n",
      " '|----------------------------|----------------------------------------------|\\n'\n",
      " '| **Install Drupal 11**      | Use Composer, Docker, or local PHP setup     '\n",
      " '|\\n'\n",
      " '| **Enable JSON:API**        | Core module, instant API endpoints           '\n",
      " '|\\n'\n",
      " '| **Create Content**         | e.g., articles, pages, taxonomy terms        '\n",
      " '|\\n'\n",
      " '| **Test Endpoints**         | /jsonapi/*                                  '\n",
      " '|\\n'\n",
      " '| **Set Permissions**        | Allow anonymous (or authenticated) access    '\n",
      " '|\\n'\n",
      " '| **Connect Frontend**       | Any JS, SPA, SSG, or static HTML            '\n",
      " '|\\n'\n",
      " '\\n'\n",
      " '---\\n'\n",
      " '\\n'\n",
      " 'If you want a more complex example (e.g., React front-end, authentication, '\n",
      " 'custom endpoints), let me know!')\n"
     ]
    }
   ],
   "source": [
    "completion = client.chat.completions.create(\n",
    "    model=\"gpt-4.1\",\n",
    "    messages=[\n",
    "        {\n",
    "            \"role\": \"system\",\n",
    "            \"content\": \"You a helpful expert of Drupal\",\n",
    "        },\n",
    "        {\n",
    "            \"role\": \"user\",\n",
    "            \"content\": \"How to create a simple hedless site based on Drupal 11?\",\n",
    "        },\n",
    "    ],\n",
    ")\n",
    "pprint(completion.choices[0].message.content)"
   ]
  }
 ],
 "metadata": {
  "kernelspec": {
   "display_name": "Python 3 (ipykernel)",
   "language": "python",
   "name": "python3"
  },
  "language_info": {
   "codemirror_mode": {
    "name": "ipython",
    "version": 3
   },
   "file_extension": ".py",
   "mimetype": "text/x-python",
   "name": "python",
   "nbconvert_exporter": "python",
   "pygments_lexer": "ipython3",
   "version": "3.12.3"
  }
 },
 "nbformat": 4,
 "nbformat_minor": 5
}
