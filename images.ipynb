{
 "cells": [
  {
   "cell_type": "markdown",
   "id": "2dae3502-0591-476d-9282-5bb0954ee4c5",
   "metadata": {},
   "source": [
    "# Simple request to generate image (DALL-E, OpenAPI)"
   ]
  },
  {
   "cell_type": "markdown",
   "id": "0465367c-a051-4d78-995a-142e65d883fa",
   "metadata": {
    "jp-MarkdownHeadingCollapsed": true
   },
   "source": [
    "## Install packages"
   ]
  },
  {
   "cell_type": "code",
   "execution_count": 1,
   "id": "77b1735f-3ef1-4d55-b059-b287341ace0e",
   "metadata": {
    "scrolled": true
   },
   "outputs": [
    {
     "name": "stdout",
     "output_type": "stream",
     "text": [
      "Note: you may need to restart the kernel to use updated packages.\n"
     ]
    }
   ],
   "source": [
    "pip install -q python-dotenv openai"
   ]
  },
  {
   "cell_type": "markdown",
   "id": "36fcec59-a0d3-4357-b7c1-11393fac53e9",
   "metadata": {
    "jp-MarkdownHeadingCollapsed": true
   },
   "source": [
    "## Import"
   ]
  },
  {
   "cell_type": "code",
   "execution_count": 2,
   "id": "84519723-29e6-43aa-89d8-68e1177096ba",
   "metadata": {
    "scrolled": true
   },
   "outputs": [],
   "source": [
    "import requests\n",
    "from pprint import pprint\n",
    "from dotenv import load_dotenv\n",
    "from openai import OpenAI\n",
    "from utils.convertation import object_to_dict\n",
    "\n",
    "load_dotenv()\n",
    "client = OpenAI()"
   ]
  },
  {
   "cell_type": "markdown",
   "id": "6e81ab02-cab3-4ac6-900b-3a336e23a4d3",
   "metadata": {
    "jp-MarkdownHeadingCollapsed": true
   },
   "source": [
    "## Request"
   ]
  },
  {
   "cell_type": "code",
   "execution_count": 3,
   "id": "6844044a-4d61-4cbe-8c21-a545aa41b816",
   "metadata": {},
   "outputs": [],
   "source": [
    "responce = client.images.generate(\n",
    "    model=\"dall-e-3\",\n",
    "    prompt=\"drag racing car in the mountains\",\n",
    "    size=\"1024x1024\",\n",
    "    n=1,\n",
    ")"
   ]
  },
  {
   "cell_type": "markdown",
   "id": "d8e9d342-def4-45ff-b1bb-0b45554f90de",
   "metadata": {
    "jp-MarkdownHeadingCollapsed": true
   },
   "source": [
    "## Fetch responce"
   ]
  },
  {
   "cell_type": "code",
   "execution_count": 4,
   "id": "03fbbcd3-04f1-4542-9a12-37834f61a587",
   "metadata": {},
   "outputs": [],
   "source": [
    "url = responce.data[0].url\n",
    "item = requests.get(url, stream=True)\n",
    "path = \"images/image.png\"\n",
    "with open(path, \"wb\") as file:\n",
    "    for chunk in item.iter_content(1024):\n",
    "        file.write(chunk)"
   ]
  }
 ],
 "metadata": {
  "kernelspec": {
   "display_name": "Python 3 (ipykernel)",
   "language": "python",
   "name": "python3"
  },
  "language_info": {
   "codemirror_mode": {
    "name": "ipython",
    "version": 3
   },
   "file_extension": ".py",
   "mimetype": "text/x-python",
   "name": "python",
   "nbconvert_exporter": "python",
   "pygments_lexer": "ipython3",
   "version": "3.12.3"
  }
 },
 "nbformat": 4,
 "nbformat_minor": 5
}
